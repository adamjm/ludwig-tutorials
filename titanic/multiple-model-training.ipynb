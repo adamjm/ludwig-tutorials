{
 "cells": [
  {
   "cell_type": "code",
   "execution_count": null,
   "metadata": {},
   "outputs": [],
   "source": [
    "from ludwig.api import LudwigModel\n",
    "from ludwig.visualize import learning_curves\n",
    "import logging\n",
    "import shutil\n",
    "\n"
   ]
  },
  {
   "cell_type": "code",
   "execution_count": null,
   "metadata": {},
   "outputs": [],
   "source": [
    "#!/usr/bin/env python\n",
    "# coding: utf-8\n",
    "\n",
    "# # Multiple Model Training Example\n",
    "# \n",
    "# This example trains multiple models and extracts training statistics\n",
    "\n",
    "# ## Import required libraries"
   ]
  },
  {
   "cell_type": "code",
   "execution_count": null,
   "metadata": {},
   "outputs": [],
   "source": [
    "def clean_results():\n",
    "\n",
    "    # clean out old results\n",
    "    try:\n",
    "        shutil.rmtree('./results')\n",
    "    except:\n",
    "        pass\n",
    "\n",
    "    try:\n",
    "        shutil.rmtree('./visualizations')\n",
    "    except:\n",
    "        pass\n"
   ]
  },
  {
   "cell_type": "code",
   "execution_count": null,
   "metadata": {},
   "outputs": [],
   "source": [
    "\n",
    "# list models to train\n",
    "list_of_model_ids = ['model1', 'model2']\n",
    "list_of_train_stats = []\n"
   ]
  },
  {
   "cell_type": "code",
   "execution_count": null,
   "metadata": {},
   "outputs": [],
   "source": [
    "\n",
    "# ## Train models\n",
    "for model_id in list_of_model_ids:\n",
    "    print('>>>> training: ', model_id)\n",
    "\n",
    "    # Define Ludwig model object that drive model training\n",
    "    model = LudwigModel(model_definition_file='./' + model_id + '_definition.yaml',\n",
    "                        logging_level=logging.WARN)\n",
    "\n",
    "    # initiate model training\n",
    "    train_stats = model.train(data_csv='./data/train.csv',\n",
    "                             experiment_name='multiple_experiment',\n",
    "                             model_name=model_id)\n",
    "\n",
    "    # save training stats for later use\n",
    "    list_of_train_stats.append(train_stats)\n",
    "\n",
    "    print('>>>>>>> completed: ', model_id,'\\n')\n",
    "\n",
    "    model.close()"
   ]
  },
  {
   "cell_type": "code",
   "execution_count": null,
   "metadata": {},
   "outputs": [],
   "source": [
    "\n",
    "# generating learning curves from training\n",
    "learning_curves(list_of_train_stats, 'Survived',\n",
    "                model_names=list_of_model_ids,\n",
    "                output_directory='./visualizations',\n",
    "                file_format='png')"
   ]
  },
  {
   "cell_type": "code",
   "execution_count": null,
   "metadata": {},
   "outputs": [],
   "source": []
  }
 ],
 "metadata": {
  "kernelspec": {
   "display_name": "ludwig",
   "language": "python",
   "name": "ludwig"
  },
  "language_info": {
   "codemirror_mode": {
    "name": "ipython",
    "version": 3
   },
   "file_extension": ".py",
   "mimetype": "text/x-python",
   "name": "python",
   "nbconvert_exporter": "python",
   "pygments_lexer": "ipython3",
   "version": "3.7.3"
  }
 },
 "nbformat": 4,
 "nbformat_minor": 2
}
