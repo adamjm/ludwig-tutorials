{
 "cells": [
  {
   "cell_type": "markdown",
   "metadata": {
    "_cell_guid": "3359ce54-1911-43f0-9252-4d8bc0406f80",
    "_uuid": "5193e03d52e88b296a8f81f7eefdc0db4628fed1"
   },
   "source": [
    "# Data Exploration Starter\n",
    "## Data Exploration for the Titanic Dataset\n",
    "### Fork from the work of Sergei Neviadomski  (https://www.kaggle.com/adamjm32/titanic-data-exploration-starter)\n",
    "### Also inspired by and forked from the notebook presented (https://www.kaggle.com/startupsci/titanic-data-science-solutions)"
   ]
  },
  {
   "cell_type": "markdown",
   "metadata": {
    "_cell_guid": "d4e1c462-1dfb-4311-b5ab-f79c29f4af63",
    "_uuid": "711638889e2115905651f173e2656611c2f06d34"
   },
   "source": []
  },
  {
   "cell_type": "markdown",
   "metadata": {
    "_cell_guid": "96614b9b-22ec-4207-b2e8-994ebafddf8c",
    "_uuid": "13409cbc2715c79ad499376efffb15eba5428e5b"
   },
   "source": []
  },
  {
   "cell_type": "code",
   "execution_count": 1,
   "metadata": {
    "_cell_guid": "aeb940e4-edcf-4915-8817-1803033b7ea7",
    "_uuid": "e57c24ce2df17ab66cf29db4d8c7d3af27bd5281",
    "collapsed": true
   },
   "outputs": [
    {
     "ename": "ModuleNotFoundError",
     "evalue": "No module named 'pandas'",
     "output_type": "error",
     "traceback": [
      "\u001b[0;31m---------------------------------------------------------------------------\u001b[0m",
      "\u001b[0;31mModuleNotFoundError\u001b[0m                       Traceback (most recent call last)",
      "\u001b[0;32m<ipython-input-1-52e19f39cb8e>\u001b[0m in \u001b[0;36m<module>\u001b[0;34m\u001b[0m\n\u001b[1;32m      1\u001b[0m \u001b[0;31m### Necessary libraries\u001b[0m\u001b[0;34m\u001b[0m\u001b[0;34m\u001b[0m\u001b[0;34m\u001b[0m\u001b[0m\n\u001b[0;32m----> 2\u001b[0;31m \u001b[0;32mimport\u001b[0m \u001b[0mpandas\u001b[0m \u001b[0;32mas\u001b[0m \u001b[0mpd\u001b[0m\u001b[0;34m\u001b[0m\u001b[0;34m\u001b[0m\u001b[0m\n\u001b[0m\u001b[1;32m      3\u001b[0m \u001b[0;32mimport\u001b[0m \u001b[0mnumpy\u001b[0m \u001b[0;32mas\u001b[0m \u001b[0mnp\u001b[0m\u001b[0;34m\u001b[0m\u001b[0;34m\u001b[0m\u001b[0m\n\u001b[1;32m      4\u001b[0m \u001b[0;32mimport\u001b[0m \u001b[0mmatplotlib\u001b[0m\u001b[0;34m.\u001b[0m\u001b[0mpyplot\u001b[0m \u001b[0;32mas\u001b[0m \u001b[0mplt\u001b[0m\u001b[0;34m\u001b[0m\u001b[0;34m\u001b[0m\u001b[0m\n\u001b[1;32m      5\u001b[0m \u001b[0;32mimport\u001b[0m \u001b[0mseaborn\u001b[0m \u001b[0;32mas\u001b[0m \u001b[0msns\u001b[0m\u001b[0;34m\u001b[0m\u001b[0;34m\u001b[0m\u001b[0m\n",
      "\u001b[0;31mModuleNotFoundError\u001b[0m: No module named 'pandas'"
     ]
    }
   ],
   "source": [
    "### Necessary libraries\n",
    "import pandas as pd\n",
    "import numpy as np\n",
    "import matplotlib.pyplot as plt\n",
    "import seaborn as sns\n",
    "\n",
    "### Seaborn style\n",
    "sns.set_style(\"whitegrid\")"
   ]
  },
  {
   "cell_type": "code",
   "execution_count": null,
   "metadata": {
    "_cell_guid": "e2932fa0-8ed6-4b22-b7bb-222d886ca432",
    "_uuid": "4f0b49a5e7b47386cf1a087bea170dc1f6d1855e",
    "collapsed": true
   },
   "outputs": [],
   "source": [
    "### Let's import our data\n",
    "train_df = pd.read_csv('data/train.csv') #,index_col='PassengerId')\n",
    "test_df = pd.read_csv('data/test.csv') #, index_col='PassengerId')\n",
    "\n",
    "\n",
    "### and test if everything OK\n",
    "\n",
    "train_df.head()"
   ]
  },
  {
   "cell_type": "code",
   "execution_count": null,
   "metadata": {},
   "outputs": [],
   "source": [
    "train_df.info()\n",
    "print('_'*40)\n",
    "test_df.info()"
   ]
  },
  {
   "cell_type": "code",
   "execution_count": null,
   "metadata": {},
   "outputs": [],
   "source": [
    "### Lets checkout the statistics of the dataset \n",
    "\n",
    "train_df.describe()\n"
   ]
  },
  {
   "cell_type": "code",
   "execution_count": null,
   "metadata": {},
   "outputs": [],
   "source": [
    "test_df.describe()"
   ]
  },
  {
   "cell_type": "markdown",
   "metadata": {},
   "source": [
    "# Assumptions, Correlations, Completions and Correcting \n",
    "\n",
    "## What are some assumptions we can likely make about the dataset?\n",
    "\n",
    "## What are some correlations that maybe present in the dataset?\n",
    "\n",
    "## What data should we definatly focus on completing (fix missing data)?\n",
    "\n",
    "## What data could we consider dropping?\n",
    "\n",
    "## What new features could we create?\n",
    "\n",
    "\n"
   ]
  },
  {
   "cell_type": "markdown",
   "metadata": {},
   "source": [
    "### Correlations "
   ]
  },
  {
   "cell_type": "code",
   "execution_count": null,
   "metadata": {},
   "outputs": [],
   "source": [
    "train_df[['Pclass', 'Survived']].groupby(['Pclass'], as_index=False).mean().sort_values(by='Survived', ascending=False)"
   ]
  },
  {
   "cell_type": "markdown",
   "metadata": {},
   "source": [
    "## Exersise: Check the correlation of Sex vs Survived and SibSp by Survivded"
   ]
  },
  {
   "cell_type": "code",
   "execution_count": null,
   "metadata": {},
   "outputs": [],
   "source": [
    "train_df[[\"Sex\", \"Survived\"]].groupby(['Sex']"
   ]
  },
  {
   "cell_type": "code",
   "execution_count": null,
   "metadata": {},
   "outputs": [],
   "source": [
    "train_df[[\"SibSp\", \"Survived\"]]"
   ]
  },
  {
   "cell_type": "code",
   "execution_count": null,
   "metadata": {},
   "outputs": [],
   "source": [
    "train_data = pd.read_csv('data/train.csv',index_col='PassengerId')"
   ]
  },
  {
   "cell_type": "code",
   "execution_count": null,
   "metadata": {
    "_cell_guid": "fc7ffb39-08ba-410f-beea-98263f673cf5",
    "_uuid": "2e3f8c2249f225df24dc1a7caed47081115fc65f",
    "collapsed": true
   },
   "outputs": [],
   "source": [
    "###  check for NAs (Not a number) so that Pandas can understands them\n",
    "train_data.isnull().sum()"
   ]
  },
  {
   "cell_type": "code",
   "execution_count": null,
   "metadata": {
    "_cell_guid": "b059e514-fbff-4b1c-abbb-fa0352d71d33",
    "_uuid": "8dc5128e94561b79b7f477dde24bf653cef4995b",
    "collapsed": true
   },
   "outputs": [],
   "source": [
    "### Now let's prepare lists of numeric and categorical columns\n",
    "# Numeric Features\n",
    "numeric_features = ['Age', 'Fare']\n",
    "# Categorical Features\n",
    "ordinal_features = ['Pclass', 'SibSp', 'Parch'] # multi-class categories \n",
    "nominal_features = ['Sex', 'Embarked'] # binary class categories"
   ]
  },
  {
   "cell_type": "code",
   "execution_count": null,
   "metadata": {
    "_cell_guid": "4ac25dbc-d588-43e4-8f0f-a13b12fce690",
    "_uuid": "5a3e8831b31ec51c87c7a185915bc9d61cdc0114",
    "collapsed": true
   },
   "outputs": [],
   "source": [
    "### Adding new column with easier to read target names\n",
    "train_data['target_name'] = train_data['Survived'].map({0: 'Not Survived', 1: 'Survived'})"
   ]
  },
  {
   "cell_type": "markdown",
   "metadata": {
    "_cell_guid": "ea3bd9ef-572f-46e9-ab06-a40e76a11b87",
    "_uuid": "35515cadb22070278a7565b40e5a888fb3bdc021"
   },
   "source": [
    "### Target Exploration"
   ]
  },
  {
   "cell_type": "code",
   "execution_count": null,
   "metadata": {
    "_cell_guid": "8e094cd6-d3bd-4862-b6dd-64a66d67d447",
    "_uuid": "726fbcef5910c6d4309f71343b397fee85f604fa",
    "collapsed": true
   },
   "outputs": [],
   "source": [
    "### Target variable exploration\n",
    "sns.countplot(train_data.target_name);\n",
    "plt.xlabel('Survived?');\n",
    "plt.ylabel('Number of occurrences');\n",
    "plt.show()"
   ]
  },
  {
   "cell_type": "markdown",
   "metadata": {
    "_cell_guid": "4f8a7c3e-f126-4e18-9885-0f68fe9b2c7e",
    "_uuid": "b0517fbc14c48765911471ca4b36fcde7bf22fd2"
   },
   "source": [
    "### Corralation between features (variables)"
   ]
  },
  {
   "cell_type": "code",
   "execution_count": null,
   "metadata": {
    "_cell_guid": "a1901889-0b66-4228-ab9c-69e4e1bc9e86",
    "_uuid": "d9b3aa4b5ec125a5b700aa3cee8edeb6d2a5a2b7",
    "collapsed": true
   },
   "outputs": [],
   "source": [
    "### Corralation matrix heatmap\n",
    "# Getting correlation matrix\n",
    "cor_matrix = train_data[numeric_features + ordinal_features].corr().round(2)\n",
    "# Plotting heatmap \n",
    "fig = plt.figure(figsize=(12,12));\n",
    "sns.heatmap(cor_matrix, annot=True, center=0, cmap = sns.diverging_palette(250, 10, as_cmap=True), ax=plt.subplot(111));\n",
    "plt.show()"
   ]
  },
  {
   "cell_type": "markdown",
   "metadata": {
    "_cell_guid": "6f18befc-5279-413d-8edf-51d96317c50e",
    "_uuid": "87ab603d3c5cce776b6425c1ed55c2109ad20c1c"
   },
   "source": [
    "### Numeric Features Exploration"
   ]
  },
  {
   "cell_type": "code",
   "execution_count": null,
   "metadata": {
    "_cell_guid": "f820b652-e498-4360-bcb5-cf2617305602",
    "_uuid": "7740cbd607628d29e9c35749a42c88c0dffbec40",
    "collapsed": true
   },
   "outputs": [],
   "source": [
    "### Plotting Numeric Features\n",
    "# Looping through and Plotting Numeric features\n",
    "for column in numeric_features:    \n",
    "    # Figure initiation\n",
    "    fig = plt.figure(figsize=(18,12))\n",
    "    \n",
    "    ### Distribution plot\n",
    "    sns.distplot(train_data[column].dropna(), ax=plt.subplot(221));\n",
    "    # X-axis Label\n",
    "    plt.xlabel(column, fontsize=14);\n",
    "    # Y-axis Label\n",
    "    plt.ylabel('Density', fontsize=14);\n",
    "    # Adding Super Title (One for a whole figure)\n",
    "    plt.suptitle('Plots for '+column, fontsize=18);\n",
    "    \n",
    "    ### Distribution per Survived / Not Survived Value\n",
    "    # Not Survived hist\n",
    "    sns.distplot(train_data.loc[train_data.Survived==0, column].dropna(),\n",
    "                 color='red', label='Not Survived', ax=plt.subplot(222));\n",
    "    # Survived hist\n",
    "    sns.distplot(train_data.loc[train_data.Survived==1, column].dropna(),\n",
    "                 color='blue', label='Survived', ax=plt.subplot(222));\n",
    "    # Adding Legend\n",
    "    plt.legend(loc='best')\n",
    "    # X-axis Label\n",
    "    plt.xlabel(column, fontsize=14);\n",
    "    # Y-axis Label\n",
    "    plt.ylabel('Density per Survived / Not Survived Value', fontsize=14);\n",
    "    \n",
    "    ### Average Column value per Survived / Not Survived Value\n",
    "    sns.barplot(x=\"target_name\", y=column, data=train_data, ax=plt.subplot(223));\n",
    "    # X-axis Label\n",
    "    plt.xlabel('Survived or Not Survived?', fontsize=14);\n",
    "    # Y-axis Label\n",
    "    plt.ylabel('Average ' + column, fontsize=14);\n",
    "    \n",
    "    ### Boxplot of Column per Survived / Not Survived Value\n",
    "    sns.boxplot(x=\"target_name\", y=column, data=train_data, ax=plt.subplot(224));\n",
    "    # X-axis Label\n",
    "    plt.xlabel('Survived or Not Survived?', fontsize=14);\n",
    "    # Y-axis Label\n",
    "    plt.ylabel(column, fontsize=14);\n",
    "    # Printing Chart\n",
    "    plt.show()"
   ]
  },
  {
   "cell_type": "markdown",
   "metadata": {
    "_cell_guid": "59e9437d-550c-4ee5-8f7c-58740fd54247",
    "_uuid": "ca4ea2d8436ccdc681045232b0abe366277831de"
   },
   "source": [
    "### Categorical (Ordinal) Features Exploration"
   ]
  },
  {
   "cell_type": "code",
   "execution_count": null,
   "metadata": {
    "_cell_guid": "8cb3ce7e-faaf-4437-a493-f9faa285605e",
    "_uuid": "92ed7a5286f650c424f979530c56d6a91dc6a68a",
    "collapsed": true,
    "scrolled": false
   },
   "outputs": [],
   "source": [
    "### Plotting Categorical Features\n",
    "# Looping through and Plotting Categorical features\n",
    "for column in ordinal_features:\n",
    "    # Figure initiation\n",
    "    fig = plt.figure(figsize=(18,18))\n",
    "\n",
    "    ### Average Column value per Survived / Not Survived Value\n",
    "    sns.barplot(x=\"target_name\", y=column, data=train_data, ax=plt.subplot(321));\n",
    "    # X-axis Label\n",
    "    plt.xlabel('Survived or Not Survived?', fontsize=14);\n",
    "    # Y-axis Label\n",
    "    plt.ylabel('Average ' + column, fontsize=14);\n",
    "    # Adding Super Title (One for a whole figure)\n",
    "    plt.suptitle('Plots for '+column, fontsize=18);\n",
    "\n",
    "    ### Boxplot of Column per Survived / Not Survived Value\n",
    "    sns.boxplot(x=\"target_name\", y=column, data=train_data, ax=plt.subplot(322));\n",
    "    # X-axis Label\n",
    "    plt.xlabel('Survived or Not Survived?', fontsize=14);\n",
    "    # Y-axis Label\n",
    "    plt.ylabel(column, fontsize=14);\n",
    "\n",
    "    ### Number of occurrences per categoty - target pair\n",
    "    ax = sns.countplot(x=column, hue=\"target_name\", data=train_data, ax = plt.subplot(312));\n",
    "    # X-axis Label\n",
    "    plt.xlabel(column, fontsize=14);\n",
    "    # Y-axis Label\n",
    "    plt.ylabel('Number of occurrences', fontsize=14);\n",
    "    # Setting Legend location \n",
    "    plt.legend(loc=1);\n",
    "\n",
    "    ### Adding percents over bars\n",
    "    # Getting heights of our bars\n",
    "    height = [p.get_height() if p.get_height()==p.get_height() else 0 for p in ax.patches]\n",
    "    # Counting number of bar groups \n",
    "    ncol = int(len(height)/2)\n",
    "    # Counting total height of groups\n",
    "    total = [height[i] + height[i + ncol] for i in range(ncol)] * 2\n",
    "    # Looping through bars\n",
    "    for i, p in enumerate(ax.patches):    \n",
    "        # Adding percentages   \n",
    "        ax.text(p.get_x()+p.get_width()/2, height[i]*1.01 + 10,\n",
    "                '{:1.0%}'.format(height[i]/total[i]), ha=\"center\", size=14) \n",
    "\n",
    "    ### Survived percentage for every value of feature\n",
    "    sns.pointplot(x=column, y='Survived', data=train_data, ax = plt.subplot(313));\n",
    "    # X-axis Label\n",
    "    plt.xlabel(column, fontsize=14);\n",
    "    # Y-axis Label\n",
    "    plt.ylabel('Survived Percentage', fontsize=14);\n",
    "    # Printing Chart\n",
    "    plt.show()"
   ]
  },
  {
   "cell_type": "markdown",
   "metadata": {
    "_cell_guid": "9500a7d0-3fd0-4a4d-bcda-9c22561578ed",
    "_uuid": "680729d4c6ac3033e654a90dc2cbd3a1fa9967a9"
   },
   "source": [
    "### Categorical (Nominal) Features Exploration"
   ]
  },
  {
   "cell_type": "code",
   "execution_count": null,
   "metadata": {
    "_cell_guid": "69743b7f-8796-411d-9649-b50c402edadc",
    "_uuid": "ccf6532d77dbb2901d2856ed57be3255ddf492c3",
    "collapsed": true
   },
   "outputs": [],
   "source": [
    "### Plotting Categorical Features\n",
    "# Looping through and Plotting Categorical features\n",
    "for column in nominal_features:\n",
    "    # Figure initiation\n",
    "    fig = plt.figure(figsize=(18,12))\n",
    "    \n",
    "    ### Number of occurrences per categoty - target pair\n",
    "    ax = sns.countplot(x=column, hue=\"target_name\", data=train_data, ax = plt.subplot(211));\n",
    "    # X-axis Label\n",
    "    plt.xlabel(column, fontsize=14);\n",
    "    # Y-axis Label\n",
    "    plt.ylabel('Number of occurrences', fontsize=14);\n",
    "    # Adding Super Title (One for a whole figure)\n",
    "    plt.suptitle('Plots for '+column, fontsize=18);\n",
    "    # Setting Legend location \n",
    "    plt.legend(loc=1);\n",
    "    \n",
    "    ### Adding percents over bars\n",
    "    # Getting heights of our bars\n",
    "    height = [p.get_height() for p in ax.patches]\n",
    "    # Counting number of bar groups \n",
    "    ncol = int(len(height)/2)\n",
    "    # Counting total height of groups\n",
    "    total = [height[i] + height[i + ncol] for i in range(ncol)] * 2\n",
    "    # Looping through bars\n",
    "    for i, p in enumerate(ax.patches):    \n",
    "        # Adding percentages\n",
    "        ax.text(p.get_x()+p.get_width()/2, height[i]*1.01 + 10,\n",
    "                '{:1.0%}'.format(height[i]/total[i]), ha=\"center\", size=14) \n",
    "\n",
    "    \n",
    "    ### Survived percentage for every value of feature\n",
    "    sns.pointplot(x=column, y='Survived', data=train_data, ax = plt.subplot(212));\n",
    "    # X-axis Label\n",
    "    plt.xlabel(column, fontsize=14);\n",
    "    # Y-axis Label\n",
    "    plt.ylabel('Survived Percentage', fontsize=14);\n",
    "    # Printing Chart\n",
    "    plt.show()"
   ]
  },
  {
   "cell_type": "code",
   "execution_count": null,
   "metadata": {},
   "outputs": [],
   "source": []
  }
 ],
 "metadata": {
  "kernelspec": {
   "display_name": "Python 3",
   "language": "python",
   "name": "python3"
  },
  "language_info": {
   "codemirror_mode": {
    "name": "ipython",
    "version": 3
   },
   "file_extension": ".py",
   "mimetype": "text/x-python",
   "name": "python",
   "nbconvert_exporter": "python",
   "pygments_lexer": "ipython3",
   "version": "3.7.3"
  }
 },
 "nbformat": 4,
 "nbformat_minor": 2
}
