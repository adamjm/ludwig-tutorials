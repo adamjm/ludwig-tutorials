{
 "cells": [
  {
   "cell_type": "code",
   "execution_count": null,
   "metadata": {},
   "outputs": [],
   "source": [
    "import pandas as pd\n",
    "from ludwig.api import LudwigModel\n",
    "import os\n",
    "import os.path\n",
    "from sklearn.metrics import accuracy_score\n"
   ]
  },
  {
   "cell_type": "code",
   "execution_count": null,
   "metadata": {},
   "outputs": [],
   "source": [
    "# \n",
    "# Load a previously saved model and make predictions on the test data set\n",
    "#\n",
    "\n",
    "# ## Import required libraries"
   ]
  },
  {
   "cell_type": "code",
   "execution_count": null,
   "metadata": {},
   "outputs": [],
   "source": [
    "# create data set for predictions\n",
    "test_data = {'image_path': [], 'label': []}\n",
    "current_dir = os.getcwd()\n",
    "test_dir = os.path.join(current_dir, 'data', 'mnist_png', 'testing')\n",
    "\n",
    "for label in os.listdir(test_dir):\n",
    "    files = os.listdir(os.path.join(test_dir, label))\n",
    "    test_data['image_path'] += [os.path.join(test_dir, label, f) for f in files]\n",
    "    test_data['label'] += len(files) * [label]\n",
    "\n"
   ]
  },
  {
   "cell_type": "code",
   "execution_count": null,
   "metadata": {},
   "outputs": [],
   "source": [
    "# collect data into a data frame\n",
    "test_df = pd.DataFrame(test_data)\n",
    "print(test_df.head())\n"
   ]
  },
  {
   "cell_type": "code",
   "execution_count": null,
   "metadata": {},
   "outputs": [],
   "source": [
    "\n",
    "# retrieve a trained model\n",
    "model = LudwigModel.load('./results/multiple_experiment_Option3/model')\n"
   ]
  },
  {
   "cell_type": "code",
   "execution_count": null,
   "metadata": {},
   "outputs": [],
   "source": [
    "\n",
    "# make predictions\n",
    "pred_df = model.predict(data_df=test_df)\n",
    "print(pred_df.head())\n"
   ]
  },
  {
   "cell_type": "code",
   "execution_count": null,
   "metadata": {},
   "outputs": [],
   "source": [
    "\n",
    "# print accuracy on test data set\n",
    "print('predicted accuracy', accuracy_score(test_df['label'], pred_df['label_predictions']))\n"
   ]
  }
 ],
 "metadata": {
  "kernelspec": {
   "display_name": "ludwig",
   "language": "python",
   "name": "ludwig"
  },
  "language_info": {
   "codemirror_mode": {
    "name": "ipython",
    "version": 3
   },
   "file_extension": ".py",
   "mimetype": "text/x-python",
   "name": "python",
   "nbconvert_exporter": "python",
   "pygments_lexer": "ipython3",
   "version": "3.7.3"
  }
 },
 "nbformat": 4,
 "nbformat_minor": 2
}
