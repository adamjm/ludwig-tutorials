{
 "cells": [
  {
   "cell_type": "code",
   "execution_count": 1,
   "metadata": {},
   "outputs": [
    {
     "name": "stdout",
     "output_type": "stream",
     "text": [
      "WARNING:tensorflow:\n",
      "The TensorFlow contrib module will not be included in TensorFlow 2.0.\n",
      "For more information, please see:\n",
      "  * https://github.com/tensorflow/community/blob/master/rfcs/20180907-contrib-sunset.md\n",
      "  * https://github.com/tensorflow/addons\n",
      "  * https://github.com/tensorflow/io (for I/O related ops)\n",
      "If you depend on functionality not listed there, please file an issue.\n",
      "\n"
     ]
    }
   ],
   "source": [
    "import pandas as pd\n",
    "from ludwig.api import LudwigModel\n",
    "import os\n",
    "import os.path\n",
    "from sklearn.metrics import accuracy_score\n"
   ]
  },
  {
   "cell_type": "code",
   "execution_count": 2,
   "metadata": {},
   "outputs": [],
   "source": [
    "# \n",
    "# Load a previously saved model and make predictions on the test data set\n",
    "#\n",
    "\n",
    "# ## Import required libraries"
   ]
  },
  {
   "cell_type": "code",
   "execution_count": 3,
   "metadata": {},
   "outputs": [],
   "source": [
    "# create data set for predictions\n",
    "test_data = {'image_path': [], 'label': []}\n",
    "current_dir = os.getcwd()\n",
    "test_dir = os.path.join(current_dir, 'data', 'mnist_png', 'testing')\n",
    "\n",
    "for label in os.listdir(test_dir):\n",
    "    files = os.listdir(os.path.join(test_dir, label))\n",
    "    test_data['image_path'] += [os.path.join(test_dir, label, f) for f in files]\n",
    "    test_data['label'] += len(files) * [label]\n",
    "\n"
   ]
  },
  {
   "cell_type": "code",
   "execution_count": 4,
   "metadata": {},
   "outputs": [
    {
     "name": "stdout",
     "output_type": "stream",
     "text": [
      "                                          image_path label\n",
      "0  /home/jovyan/ludwig-tutorials/mnist/data/mnist...     9\n",
      "1  /home/jovyan/ludwig-tutorials/mnist/data/mnist...     9\n",
      "2  /home/jovyan/ludwig-tutorials/mnist/data/mnist...     9\n",
      "3  /home/jovyan/ludwig-tutorials/mnist/data/mnist...     9\n",
      "4  /home/jovyan/ludwig-tutorials/mnist/data/mnist...     9\n"
     ]
    }
   ],
   "source": [
    "# collect data into a data frame\n",
    "test_df = pd.DataFrame(test_data)\n",
    "print(test_df.head())\n"
   ]
  },
  {
   "cell_type": "code",
   "execution_count": 5,
   "metadata": {},
   "outputs": [
    {
     "name": "stdout",
     "output_type": "stream",
     "text": [
      "WARNING:tensorflow:From /opt/anaconda/envs/wmlce/lib/python3.7/site-packages/ludwig-0.2.1-py3.7.egg/ludwig/models/modules/convolutional_modules.py:74: dropout (from tensorflow.python.layers.core) is deprecated and will be removed in a future version.\n",
      "Instructions for updating:\n",
      "Use keras.layers.dropout instead.\n",
      "WARNING:tensorflow:From /opt/anaconda/envs/wmlce/lib/python3.7/site-packages/tensorflow_core/python/layers/core.py:271: Layer.apply (from tensorflow.python.keras.engine.base_layer) is deprecated and will be removed in a future version.\n",
      "Instructions for updating:\n",
      "Please use `layer.__call__` method instead.\n",
      "WARNING:tensorflow:From /opt/anaconda/envs/wmlce/lib/python3.7/site-packages/ludwig-0.2.1-py3.7.egg/ludwig/models/modules/convolutional_modules.py:585: The name tf.nn.max_pool is deprecated. Please use tf.nn.max_pool2d instead.\n",
      "\n"
     ]
    }
   ],
   "source": [
    "\n",
    "# retrieve a trained model\n",
    "model = LudwigModel.load('./results/multiple_experiment_Option3/model')\n"
   ]
  },
  {
   "cell_type": "code",
   "execution_count": 6,
   "metadata": {},
   "outputs": [
    {
     "name": "stdout",
     "output_type": "stream",
     "text": [
      "WARNING:tensorflow:From /opt/anaconda/envs/wmlce/lib/python3.7/site-packages/ludwig-0.2.1-py3.7.egg/ludwig/utils/tf_utils.py:78: The name tf.GPUOptions is deprecated. Please use tf.compat.v1.GPUOptions instead.\n",
      "\n",
      "INFO:tensorflow:Restoring parameters from ./results/multiple_experiment_Option3/model/model_weights\n",
      "  label_predictions  label_probabilities_<UNK>  label_probabilities_1  \\\n",
      "0                 9               1.682248e-07           2.508158e-17   \n",
      "1                 9               3.512060e-24           0.000000e+00   \n",
      "2                 9               8.545952e-14           1.539703e-35   \n",
      "3                 9               2.734132e-08           1.265407e-19   \n",
      "4                 9               2.171880e-20           0.000000e+00   \n",
      "\n",
      "   label_probabilities_7  label_probabilities_3  label_probabilities_2  \\\n",
      "0               0.220132           9.132372e-05               0.034524   \n",
      "1               0.058156           1.128352e-16               0.000003   \n",
      "2               0.142337           2.990270e-09               0.001051   \n",
      "3               0.211883           2.514508e-05               0.022573   \n",
      "4               0.081465           5.800797e-14               0.000025   \n",
      "\n",
      "   label_probabilities_9  label_probabilities_0  label_probabilities_6  \\\n",
      "0               0.476205           6.007886e-16           1.664186e-04   \n",
      "1               0.686417           0.000000e+00           1.272587e-14   \n",
      "2               0.585864           6.488829e-33           2.603628e-08   \n",
      "3               0.497233           4.356950e-18           5.584983e-05   \n",
      "4               0.654881           0.000000e+00           2.571456e-12   \n",
      "\n",
      "   label_probabilities_8  label_probabilities_4  label_probabilities_5  \\\n",
      "0           1.765464e-02               0.250812           4.148229e-04   \n",
      "1           2.161030e-07               0.255423           6.578041e-14   \n",
      "2           2.596106e-04               0.270489           8.557102e-08   \n",
      "3           1.052809e-02               0.257558           1.441712e-04   \n",
      "4           2.898036e-06               0.263626           1.126908e-11   \n",
      "\n",
      "   label_probability  \n",
      "0           0.476205  \n",
      "1           0.686417  \n",
      "2           0.585864  \n",
      "3           0.497233  \n",
      "4           0.654881  \n"
     ]
    }
   ],
   "source": [
    "\n",
    "# make predictions\n",
    "pred_df = model.predict(data_df=test_df)\n",
    "print(pred_df.head())\n"
   ]
  },
  {
   "cell_type": "code",
   "execution_count": 7,
   "metadata": {},
   "outputs": [
    {
     "name": "stdout",
     "output_type": "stream",
     "text": [
      "predicted accuracy 0.6108\n"
     ]
    }
   ],
   "source": [
    "\n",
    "# print accuracy on test data set\n",
    "print('predicted accuracy', accuracy_score(test_df['label'], pred_df['label_predictions']))\n"
   ]
  },
  {
   "cell_type": "code",
   "execution_count": null,
   "metadata": {},
   "outputs": [],
   "source": []
  }
 ],
 "metadata": {
  "kernelspec": {
   "display_name": "wmlce",
   "language": "python",
   "name": "wmlce"
  },
  "language_info": {
   "codemirror_mode": {
    "name": "ipython",
    "version": 3
   },
   "file_extension": ".py",
   "mimetype": "text/x-python",
   "name": "python",
   "nbconvert_exporter": "python",
   "pygments_lexer": "ipython3",
   "version": "3.7.5"
  }
 },
 "nbformat": 4,
 "nbformat_minor": 2
}
