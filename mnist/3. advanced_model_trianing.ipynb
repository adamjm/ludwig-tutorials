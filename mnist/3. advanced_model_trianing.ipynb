{
 "cells": [
  {
   "cell_type": "code",
   "execution_count": 1,
   "metadata": {},
   "outputs": [
    {
     "name": "stderr",
     "output_type": "stream",
     "text": [
      "/Users/adammakarucha/.virtualenvs/ludwig/lib/python3.7/site-packages/tensorflow/python/framework/dtypes.py:516: FutureWarning: Passing (type, 1) or '1type' as a synonym of type is deprecated; in a future version of numpy, it will be understood as (type, (1,)) / '(1,)type'.\n",
      "  _np_qint8 = np.dtype([(\"qint8\", np.int8, 1)])\n",
      "/Users/adammakarucha/.virtualenvs/ludwig/lib/python3.7/site-packages/tensorflow/python/framework/dtypes.py:517: FutureWarning: Passing (type, 1) or '1type' as a synonym of type is deprecated; in a future version of numpy, it will be understood as (type, (1,)) / '(1,)type'.\n",
      "  _np_quint8 = np.dtype([(\"quint8\", np.uint8, 1)])\n",
      "/Users/adammakarucha/.virtualenvs/ludwig/lib/python3.7/site-packages/tensorflow/python/framework/dtypes.py:518: FutureWarning: Passing (type, 1) or '1type' as a synonym of type is deprecated; in a future version of numpy, it will be understood as (type, (1,)) / '(1,)type'.\n",
      "  _np_qint16 = np.dtype([(\"qint16\", np.int16, 1)])\n",
      "/Users/adammakarucha/.virtualenvs/ludwig/lib/python3.7/site-packages/tensorflow/python/framework/dtypes.py:519: FutureWarning: Passing (type, 1) or '1type' as a synonym of type is deprecated; in a future version of numpy, it will be understood as (type, (1,)) / '(1,)type'.\n",
      "  _np_quint16 = np.dtype([(\"quint16\", np.uint16, 1)])\n",
      "/Users/adammakarucha/.virtualenvs/ludwig/lib/python3.7/site-packages/tensorflow/python/framework/dtypes.py:520: FutureWarning: Passing (type, 1) or '1type' as a synonym of type is deprecated; in a future version of numpy, it will be understood as (type, (1,)) / '(1,)type'.\n",
      "  _np_qint32 = np.dtype([(\"qint32\", np.int32, 1)])\n",
      "/Users/adammakarucha/.virtualenvs/ludwig/lib/python3.7/site-packages/tensorflow/python/framework/dtypes.py:525: FutureWarning: Passing (type, 1) or '1type' as a synonym of type is deprecated; in a future version of numpy, it will be understood as (type, (1,)) / '(1,)type'.\n",
      "  np_resource = np.dtype([(\"resource\", np.ubyte, 1)])\n",
      "/Users/adammakarucha/.virtualenvs/ludwig/lib/python3.7/site-packages/tensorboard/compat/tensorflow_stub/dtypes.py:541: FutureWarning: Passing (type, 1) or '1type' as a synonym of type is deprecated; in a future version of numpy, it will be understood as (type, (1,)) / '(1,)type'.\n",
      "  _np_qint8 = np.dtype([(\"qint8\", np.int8, 1)])\n",
      "/Users/adammakarucha/.virtualenvs/ludwig/lib/python3.7/site-packages/tensorboard/compat/tensorflow_stub/dtypes.py:542: FutureWarning: Passing (type, 1) or '1type' as a synonym of type is deprecated; in a future version of numpy, it will be understood as (type, (1,)) / '(1,)type'.\n",
      "  _np_quint8 = np.dtype([(\"quint8\", np.uint8, 1)])\n",
      "/Users/adammakarucha/.virtualenvs/ludwig/lib/python3.7/site-packages/tensorboard/compat/tensorflow_stub/dtypes.py:543: FutureWarning: Passing (type, 1) or '1type' as a synonym of type is deprecated; in a future version of numpy, it will be understood as (type, (1,)) / '(1,)type'.\n",
      "  _np_qint16 = np.dtype([(\"qint16\", np.int16, 1)])\n",
      "/Users/adammakarucha/.virtualenvs/ludwig/lib/python3.7/site-packages/tensorboard/compat/tensorflow_stub/dtypes.py:544: FutureWarning: Passing (type, 1) or '1type' as a synonym of type is deprecated; in a future version of numpy, it will be understood as (type, (1,)) / '(1,)type'.\n",
      "  _np_quint16 = np.dtype([(\"quint16\", np.uint16, 1)])\n",
      "/Users/adammakarucha/.virtualenvs/ludwig/lib/python3.7/site-packages/tensorboard/compat/tensorflow_stub/dtypes.py:545: FutureWarning: Passing (type, 1) or '1type' as a synonym of type is deprecated; in a future version of numpy, it will be understood as (type, (1,)) / '(1,)type'.\n",
      "  _np_qint32 = np.dtype([(\"qint32\", np.int32, 1)])\n",
      "/Users/adammakarucha/.virtualenvs/ludwig/lib/python3.7/site-packages/tensorboard/compat/tensorflow_stub/dtypes.py:550: FutureWarning: Passing (type, 1) or '1type' as a synonym of type is deprecated; in a future version of numpy, it will be understood as (type, (1,)) / '(1,)type'.\n",
      "  np_resource = np.dtype([(\"resource\", np.ubyte, 1)])\n"
     ]
    },
    {
     "name": "stdout",
     "output_type": "stream",
     "text": [
      "WARNING:tensorflow:\n",
      "The TensorFlow contrib module will not be included in TensorFlow 2.0.\n",
      "For more information, please see:\n",
      "  * https://github.com/tensorflow/community/blob/master/rfcs/20180907-contrib-sunset.md\n",
      "  * https://github.com/tensorflow/addons\n",
      "  * https://github.com/tensorflow/io (for I/O related ops)\n",
      "If you depend on functionality not listed there, please file an issue.\n",
      "\n",
      " matplotlib or seaborn are not installed. In order to install all visualization dependencies run pip install ludwig[viz]\n"
     ]
    },
    {
     "name": "stderr",
     "output_type": "stream",
     "text": [
      "ERROR:root:Internal Python error in the inspect module.\n",
      "Below is the traceback from this internal error.\n",
      "\n"
     ]
    },
    {
     "name": "stdout",
     "output_type": "stream",
     "text": [
      "Traceback (most recent call last):\n",
      "  File \"/Users/adammakarucha/.virtualenvs/ludwig/lib/python3.7/site-packages/ludwig/utils/visualization_utils.py\", line 33, in <module>\n",
      "    import matplotlib as mpl\n",
      "ModuleNotFoundError: No module named 'matplotlib'\n",
      "\n",
      "During handling of the above exception, another exception occurred:\n",
      "\n",
      "Traceback (most recent call last):\n",
      "  File \"/Users/adammakarucha/.virtualenvs/ludwig/lib/python3.7/site-packages/IPython/core/interactiveshell.py\", line 3319, in run_code\n",
      "    exec(code_obj, self.user_global_ns, self.user_ns)\n",
      "  File \"<ipython-input-1-b0a9c9077f59>\", line 2, in <module>\n",
      "    from ludwig.visualize import learning_curves\n",
      "  File \"/Users/adammakarucha/.virtualenvs/ludwig/lib/python3.7/site-packages/ludwig/visualize.py\", line 35, in <module>\n",
      "    from ludwig.utils import visualization_utils\n",
      "  File \"/Users/adammakarucha/.virtualenvs/ludwig/lib/python3.7/site-packages/ludwig/utils/visualization_utils.py\", line 51, in <module>\n",
      "    sys.exit(-1)\n",
      "SystemExit: -1\n",
      "\n",
      "During handling of the above exception, another exception occurred:\n",
      "\n",
      "Traceback (most recent call last):\n",
      "  File \"/Users/adammakarucha/.virtualenvs/ludwig/lib/python3.7/site-packages/IPython/core/ultratb.py\", line 1151, in get_records\n",
      "    return _fixed_getinnerframes(etb, number_of_lines_of_context, tb_offset)\n",
      "  File \"/Users/adammakarucha/.virtualenvs/ludwig/lib/python3.7/site-packages/IPython/core/ultratb.py\", line 319, in wrapped\n",
      "    return f(*args, **kwargs)\n",
      "  File \"/Users/adammakarucha/.virtualenvs/ludwig/lib/python3.7/site-packages/IPython/core/ultratb.py\", line 353, in _fixed_getinnerframes\n",
      "    records = fix_frame_records_filenames(inspect.getinnerframes(etb, context))\n",
      "  File \"/usr/local/Cellar/python/3.7.3/Frameworks/Python.framework/Versions/3.7/lib/python3.7/inspect.py\", line 1502, in getinnerframes\n",
      "    frameinfo = (tb.tb_frame,) + getframeinfo(tb, context)\n",
      "AttributeError: 'tuple' object has no attribute 'tb_frame'\n"
     ]
    },
    {
     "ename": "SystemExit",
     "evalue": "-1",
     "output_type": "error",
     "traceback": [
      "An exception has occurred, use %tb to see the full traceback.\n",
      "\u001b[0;31m---------------------------------------------------------------------------\u001b[0m",
      "\nDuring handling of the above exception, another exception occurred:\n",
      "\u001b[0;31mSystemExit\u001b[0m\u001b[0;31m:\u001b[0m -1\n"
     ]
    },
    {
     "name": "stderr",
     "output_type": "stream",
     "text": [
      "/Users/adammakarucha/.virtualenvs/ludwig/lib/python3.7/site-packages/IPython/core/interactiveshell.py:3327: UserWarning: To exit: use 'exit', 'quit', or Ctrl-D.\n",
      "  warn(\"To exit: use 'exit', 'quit', or Ctrl-D.\", stacklevel=1)\n"
     ]
    }
   ],
   "source": [
    "from ludwig.api import LudwigModel\n",
    "from ludwig.visualize import learning_curves\n",
    "import logging\n",
    "import shutil\n",
    "import os\n",
    "import glob\n",
    "import yaml\n",
    "from collections import namedtuple"
   ]
  },
  {
   "cell_type": "code",
   "execution_count": null,
   "metadata": {},
   "outputs": [],
   "source": [
    "\n",
    "# # Multiple Model Training Example\n",
    "# \n",
    "# This example trains multiple models and extracts training statistics\n"
   ]
  },
  {
   "cell_type": "code",
   "execution_count": null,
   "metadata": {},
   "outputs": [],
   "source": [
    "def clean_results():\n",
    "    try:\n",
    "        shutil.rmtree('./results')\n",
    "    except:\n",
    "        pass\n",
    "\n",
    "    try:\n",
    "        shutil.rmtree('./visualizations')\n",
    "    except:\n",
    "        pass\n",
    "\n",
    "    try:\n",
    "        file_list = glob.glob('./data/*.json')\n",
    "        file_list.append(glob.glob('./data/*.hdf5'))\n",
    "        os.remove(file_list)\n",
    "    except:\n",
    "        pass"
   ]
  },
  {
   "cell_type": "code",
   "execution_count": null,
   "metadata": {},
   "outputs": [],
   "source": [
    "## Clean up old results folder\n",
    "clean_results()"
   ]
  },
  {
   "cell_type": "code",
   "execution_count": null,
   "metadata": {},
   "outputs": [],
   "source": [
    "# read in base model definition\n",
    "with open('./model_definition.yaml', 'r') as f:\n",
    "    base_model = yaml.safe_load(f.read())\n",
    "\n"
   ]
  },
  {
   "cell_type": "code",
   "execution_count": null,
   "metadata": {},
   "outputs": [],
   "source": [
    "# Specify named tuple to keep track of training results\n",
    "TrainingResult = namedtuple('TrainingResult', ['name', 'train_stats'])\n",
    "\n",
    "# specify alternative architectures to test\n",
    "FullyConnectedLayers = namedtuple('FullyConnectedLayers',['name', 'fc_layers'])\n",
    "\n",
    "list_of_fc_layers = [\n",
    "    FullyConnectedLayers(name='Option1', fc_layers=[{'fc_size':64, 'dropout': 'true'}]),\n",
    "\n",
    "    FullyConnectedLayers(name='Option2', fc_layers=[{'fc_size':128, 'dropout':'true'},\n",
    "                                                    {'fc_size':64, 'dropout': 'true'}]),\n",
    "\n",
    "    FullyConnectedLayers(name='Option3', fc_layers=[{'fc_size':128, 'dropout':'true'}])\n",
    "]\n",
    "\n",
    "list_of_train_stats = []\n"
   ]
  },
  {
   "cell_type": "code",
   "execution_count": null,
   "metadata": {},
   "outputs": [],
   "source": [
    "# ## Train models\n",
    "for model_option in list_of_fc_layers:\n",
    "    print('>>>> training: ', model_option.name)\n",
    "\n",
    "    # set up Python dictionary to hold model training parameters\n",
    "    model_definition = base_model.copy()\n",
    "    model_definition['input_features'][0]['fc_layers'] = model_option.fc_layers\n",
    "    model_definition['training']['epochs'] = 8\n",
    "\n",
    "    # Define Ludwig model object that drive model training\n",
    "    model = LudwigModel(model_definition,\n",
    "                        logging_level=logging.INFO)\n",
    "\n",
    "    # initiate model training\n",
    "    train_stats = model.train(data_csv='./data/mnist_dataset_training.csv',\n",
    "                             experiment_name='multiple_experiment',\n",
    "                             model_name=model_option.name)\n",
    "\n",
    "    # save training stats for later use\n",
    "    list_of_train_stats.append(TrainingResult(name=model_option.name, train_stats=train_stats))\n",
    "\n",
    "    print('>>>>>>> completed: ', model_option.name, '\\n')\n",
    "\n",
    "    model.close()"
   ]
  },
  {
   "cell_type": "code",
   "execution_count": null,
   "metadata": {},
   "outputs": [],
   "source": []
  },
  {
   "cell_type": "code",
   "execution_count": null,
   "metadata": {},
   "outputs": [],
   "source": [
    "# generating learning curves from training\n",
    "option_names = [trs.name for trs in list_of_train_stats]\n",
    "train_stats = [trs.train_stats for trs in list_of_train_stats]\n",
    "learning_curves(train_stats, 'Survived',\n",
    "                model_names=option_names,\n",
    "                output_directory='./visualizations',\n",
    "                file_format='png')\n",
    "\n",
    "\n",
    "\n"
   ]
  }
 ],
 "metadata": {
  "kernelspec": {
   "display_name": "ludwig",
   "language": "python",
   "name": "ludwig"
  },
  "language_info": {
   "codemirror_mode": {
    "name": "ipython",
    "version": 3
   },
   "file_extension": ".py",
   "mimetype": "text/x-python",
   "name": "python",
   "nbconvert_exporter": "python",
   "pygments_lexer": "ipython3",
   "version": "3.7.3"
  }
 },
 "nbformat": 4,
 "nbformat_minor": 2
}
