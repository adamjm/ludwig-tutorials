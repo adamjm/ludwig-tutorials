{
 "cells": [
  {
   "cell_type": "code",
   "execution_count": 2,
   "metadata": {},
   "outputs": [],
   "source": [
    "import os\n",
    "import os.path"
   ]
  },
  {
   "cell_type": "code",
   "execution_count": 3,
   "metadata": {},
   "outputs": [
    {
     "name": "stdout",
     "output_type": "stream",
     "text": [
      "  % Total    % Received % Xferd  Average Speed   Time    Time     Time  Current\n",
      "                                 Dload  Upload   Total   Spent    Left  Speed\n",
      "100   141  100   141    0     0    238      0 --:--:-- --:--:-- --:--:--   238\n",
      "100 14.9M  100 14.9M    0     0  1515k      0  0:00:10  0:00:10 --:--:-- 1992k\n"
     ]
    }
   ],
   "source": [
    "!mkdir data && cd data && curl -L -O https://github.com/myleott/mnist_png/raw/master/mnist_png.tar.gz && \\\n",
    "  tar -xf mnist_png.tar.gz && \\\n",
    "  rm mnist_png.tar.gz"
   ]
  },
  {
   "cell_type": "code",
   "execution_count": 4,
   "metadata": {},
   "outputs": [],
   "source": [
    "def prep_mnist():\n",
    "    for name in ['training', 'testing']:\n",
    "        with open(os.path.join('data','mnist_dataset_{}.csv'.format(name)), 'w') as output_file:\n",
    "            print('=== creating {} dataset ==='.format(name))\n",
    "            output_file.write('image_path,label\\n')\n",
    "            for i in range(10):\n",
    "                path = os.path.join('data','mnist_png',name,str(i))\n",
    "                for file in os.listdir(path):\n",
    "                    if file.endswith(\".png\"):\n",
    "                        output_file.write('{},{}\\n'.format(os.path.join(os.path.join('mnist_png',name,str(i)), file), str(i)))"
   ]
  },
  {
   "cell_type": "code",
   "execution_count": 5,
   "metadata": {},
   "outputs": [
    {
     "name": "stdout",
     "output_type": "stream",
     "text": [
      "=== creating training dataset ===\n",
      "=== creating testing dataset ===\n"
     ]
    }
   ],
   "source": [
    "prep_mnist()"
   ]
  },
  {
   "cell_type": "code",
   "execution_count": null,
   "metadata": {},
   "outputs": [],
   "source": []
  }
 ],
 "metadata": {
  "kernelspec": {
   "display_name": "Python 3",
   "language": "python",
   "name": "python3"
  },
  "language_info": {
   "codemirror_mode": {
    "name": "ipython",
    "version": 3
   },
   "file_extension": ".py",
   "mimetype": "text/x-python",
   "name": "python",
   "nbconvert_exporter": "python",
   "pygments_lexer": "ipython3",
   "version": "3.7.3"
  }
 },
 "nbformat": 4,
 "nbformat_minor": 2
}
